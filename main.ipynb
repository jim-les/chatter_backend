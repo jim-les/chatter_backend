{
 "cells": [
  {
   "cell_type": "code",
   "execution_count": 1,
   "metadata": {},
   "outputs": [
    {
     "name": "stderr",
     "output_type": "stream",
     "text": [
      "  WARNING: Failed to write executable - trying to use .deleteme logic\n",
      "ERROR: Could not install packages due to an OSError: [WinError 2] The system cannot find the file specified: 'C:\\\\Python312\\\\Scripts\\\\nltk.exe' -> 'C:\\\\Python312\\\\Scripts\\\\nltk.exe.deleteme'\n",
      "\n",
      "\n",
      "[notice] A new release of pip is available: 24.0 -> 24.1.2\n",
      "[notice] To update, run: python.exe -m pip install --upgrade pip\n"
     ]
    },
    {
     "name": "stdout",
     "output_type": "stream",
     "text": [
      "Collecting nltk\n",
      "  Using cached nltk-3.8.1-py3-none-any.whl.metadata (2.8 kB)\n",
      "Requirement already satisfied: click in c:\\python312\\lib\\site-packages (from nltk) (8.1.7)\n",
      "Collecting joblib (from nltk)\n",
      "  Using cached joblib-1.4.2-py3-none-any.whl.metadata (5.4 kB)\n",
      "Collecting regex>=2021.8.3 (from nltk)\n",
      "  Using cached regex-2024.5.15-cp312-cp312-win_amd64.whl.metadata (41 kB)\n",
      "Requirement already satisfied: tqdm in c:\\python312\\lib\\site-packages (from nltk) (4.66.4)\n",
      "Requirement already satisfied: colorama in c:\\python312\\lib\\site-packages (from click->nltk) (0.4.6)\n",
      "Using cached nltk-3.8.1-py3-none-any.whl (1.5 MB)\n",
      "Using cached regex-2024.5.15-cp312-cp312-win_amd64.whl (268 kB)\n",
      "Using cached joblib-1.4.2-py3-none-any.whl (301 kB)\n",
      "Installing collected packages: regex, joblib, nltk\n"
     ]
    },
    {
     "name": "stderr",
     "output_type": "stream",
     "text": [
      "[nltk_data] Downloading package punkt to\n",
      "[nltk_data]     C:\\Users\\hp\\AppData\\Roaming\\nltk_data...\n",
      "[nltk_data]   Unzipping tokenizers\\punkt.zip.\n",
      "[nltk_data] Downloading package wordnet to\n",
      "[nltk_data]     C:\\Users\\hp\\AppData\\Roaming\\nltk_data...\n"
     ]
    },
    {
     "data": {
      "text/plain": [
       "True"
      ]
     },
     "execution_count": 1,
     "metadata": {},
     "output_type": "execute_result"
    }
   ],
   "source": [
    "! pip install nltk\n",
    "import nltk\n",
    "nltk.download('punkt')  # For tokenizers\n",
    "nltk.download('wordnet')  # For WordNet lemmatizer\n"
   ]
  },
  {
   "cell_type": "code",
   "execution_count": null,
   "metadata": {},
   "outputs": [],
   "source": [
    "from nltk.chat.util import Chat, reflections\n",
    "\n",
    "pairs = [\n",
    "    (\n",
    "        r\"my name is (.*)\",\n",
    "        [\"Hello %1, how can I help you today?\",]\n",
    "    ),\n",
    "    (\n",
    "        r\"what is your name?\",\n",
    "        [\"My name is ChatBot and I'm here to help you.\",]\n",
    "    ),\n",
    "    (\n",
    "        r\"how are you ?\",\n",
    "        [\"I'm doing good\\nHow about You ?\",]\n",
    "    ),\n",
    "    (\n",
    "        r\"sorry (.*)\",\n",
    "        [\"It's alright\",\"No problem, I understand.\",\"You don't have to be sorry.\"]\n",
    "    ),\n",
    "    (\n",
    "        r\"i'm (.*) doing good\",\n",
    "        [\"Nice to hear that\",\"Alright :)\",]\n",
    "    ),\n",
    "    (\n",
    "        r\"hi|hey|hello\",\n",
    "        [\"Hello\", \"Hey there\",]\n",
    "    ),\n",
    "    (\n",
    "        r\"(.*) age?\",\n",
    "        [\"I'm a computer program :)\",]\n",
    "    ),\n",
    "    (\n",
    "        r\"(.*) created ?\",\n",
    "        [\"Rami made me using Python's NLTK library \",\"top secret ;)\",]\n",
    "    ),\n",
    "    (\n",
    "        r\"(.*) (location|city) ?\",\n",
    "        ['new york, U.S.A',]\n",
    "    ),\n",
    "    (\n",
    "        r\"how is the weather in (.*)?\",\n",
    "        [\"Weather in %1 is awesome like always\",\"Too hot man here in %1\",\"Too cold man here in %1\",\"Never even heard about %1\"]\n",
    "    ),\n",
    "    (\n",
    "        r\"i work in (.*)?\",\n",
    "        [\"%1 is an Amazing company, I have heard about it.\",]\n",
    "    ),\n",
    "    (\n",
    "        r\"(.*)raining in (.*)\",\n",
    "        [\"No rain since last week here in %2\",\"Damn its raining too much in %2\"]\n",
    "    ),\n",
    "    (\n",
    "        r\"how (.*) health(.*)\",\n",
    "        [\"I'm a computer program, so I'm always healthy \",]\n",
    "    ),\n",
    "    (\n",
    "        r\"(.*) (sports|game) ?\",\n",
    "        [\"I'm a very big fan of Soccer\",]\n",
    "    ),\n",
    "    (\n",
    "        r\"who (.*) (moviestar|actor)?\",\n",
    "        [\"Brad Pitt\"]\n",
    "    ),\n",
    "    (\n",
    "        r\"quit\",\n",
    "        [\"BBye take care. See you soon :) \",\"It was nice talking to you. See you soon :)\"]\n",
    "    ),\n",
    "]\n",
    "\n",
    "# Create a ChatBot instance\n",
    "chatbot = Chat(pairs, reflections)\n"
   ]
  },
  {
   "cell_type": "code",
   "execution_count": null,
   "metadata": {},
   "outputs": [],
   "source": []
  },
  {
   "cell_type": "code",
   "execution_count": null,
   "metadata": {},
   "outputs": [],
   "source": []
  },
  {
   "cell_type": "code",
   "execution_count": 3,
   "metadata": {},
   "outputs": [
    {
     "name": "stdout",
     "output_type": "stream",
     "text": [
      "Hi, I'm ChatBot! How can I help you today?\n",
      "ChatBot: None\n",
      "ChatBot: None\n",
      "ChatBot: None\n",
      "ChatBot: None\n",
      "ChatBot: None\n",
      "ChatBot: None\n",
      "ChatBot: None\n",
      "ChatBot: None\n",
      "ChatBot: None\n",
      "ChatBot: None\n",
      "ChatBot: None\n",
      "ChatBot: None\n",
      "ChatBot: None\n",
      "ChatBot: None\n",
      "ChatBot: None\n",
      "ChatBot: None\n",
      "ChatBot: None\n",
      "ChatBot: None\n",
      "ChatBot: None\n",
      "ChatBot: None\n",
      "ChatBot: None\n",
      "ChatBot: None\n",
      "ChatBot: None\n",
      "ChatBot: None\n"
     ]
    }
   ],
   "source": [
    "def chat():\n",
    "    print(\"Hi, I'm ChatBot! How can I help you today?\")\n",
    "    while True:\n",
    "        user_input = input(\"You: \")\n",
    "        if user_input.lower() == 'quit':\n",
    "            print(\"ChatBot: Goodbye!\")\n",
    "            break\n",
    "        response = chatbot.respond(user_input)\n",
    "        print(\"ChatBot:\", response)\n",
    "\n",
    "# Start chatting\n",
    "chat()\n"
   ]
  },
  {
   "cell_type": "markdown",
   "metadata": {},
   "source": []
  }
 ],
 "metadata": {
  "kernelspec": {
   "display_name": "Python 3",
   "language": "python",
   "name": "python3"
  },
  "language_info": {
   "codemirror_mode": {
    "name": "ipython",
    "version": 3
   },
   "file_extension": ".py",
   "mimetype": "text/x-python",
   "name": "python",
   "nbconvert_exporter": "python",
   "pygments_lexer": "ipython3",
   "version": "3.12.3"
  }
 },
 "nbformat": 4,
 "nbformat_minor": 2
}
